## Key Findings
- Attention and comprehension typically show the strongest positive correlations with assessment.
- A simple Random Forest regressor provides strong baseline R2 on held-out data.
- KMeans personas differentiate students by engagement and focus, guiding targeted interventions.def label_cluster(row):
    if row['comprehension']>70 and row['focus']>70:
        return 'Self-Directed Achievers'
    if row['attention']<55 and row['engagement_time']<40:
        return 'Low-Engagement Wanderers'
    if row['retention']>65 and row['attention']>60:
        return 'Steady Pace Learners'
    return 'Developing Learners'

centroids['persona_name'] = centroids.apply(label_cluster, axis=1)

pca = PCA(n_components=2)
pts = pca.fit_transform(X_scaled)
plt.figure(figsize=(6,5))
palette = ['#3b82f6','#22c55e','#f59e0b']
for lab in sorted(df['persona'].unique()):
    mask = df['persona']==lab
    plt.scatter(pts[mask,0], pts[mask,1], s=18, alpha=0.7, label=f"{lab}: {centroids.loc[lab,'persona_name']}", color=palette[lab%len(palette)])
plt.title('Student Personas (PCA of features)')
plt.legend(bbox_to_anchor=(1.05, 1), loc='upper left')
plt.tight_layout()
plt.show()

centroids[['persona_name','count'] + cluster_features].sort_values('count', ascending=False)from sklearn.preprocessing import StandardScaler
from sklearn.cluster import KMeans
from sklearn.decomposition import PCA

cluster_features = ['comprehension','attention','focus','retention','engagement_time']
scaler = StandardScaler()
X_scaled = scaler.fit_transform(df[cluster_features])

kmeans = KMeans(n_clusters=3, n_init=10, random_state=42)
labels = kmeans.fit_predict(X_scaled)
df['persona'] = labels

centroids = pd.DataFrame(scaler.inverse_transform(kmeans.cluster_centers_), columns=cluster_features)
centroids['count'] = pd.Series(labels).value_counts().sort_index().values
centroidsfrom sklearn.model_selection import train_test_split
from sklearn.linear_model import LinearRegression
from sklearn.ensemble import RandomForestRegressor
from sklearn.metrics import r2_score, mean_absolute_error

features = ['comprehension','attention','focus','retention','engagement_time']
X = df[features]
y = df['assessment_score']
X_train, X_test, y_train, y_test = train_test_split(X, y, test_size=0.25, random_state=42)

lr = LinearRegression().fit(X_train, y_train)
rf = RandomForestRegressor(n_estimators=300, random_state=42).fit(X_train, y_train)

pred_lr = lr.predict(X_test)
pred_rf = rf.predict(X_test)

print('Linear Regression -> R2:', round(r2_score(y_test, pred_lr), 3), 'MAE:', round(mean_absolute_error(y_test, pred_lr), 2))
print('Random Forest     -> R2:', round(r2_score(y_test, pred_rf), 3), 'MAE:', round(mean_absolute_error(y_test, pred_rf), 2))

coef_lr = pd.Series(lr.coef_, index=features).sort_values(key=lambda s: s.abs(), ascending=False)
imp_rf = pd.Series(rf.feature_importances_, index=features).sort_values(ascending=False)

fig, ax = plt.subplots(1,2, figsize=(10,4))
coef_lr.plot(kind='bar', ax=ax[0], title='LR Coefficients', color='#64748b')
imp_rf.plot(kind='bar', ax=ax[1], title='RF Importances', color='#0ea5e9')
plt.tight_layout()
plt.show()corr = df[numeric_cols].corr()
plt.figure(figsize=(7,5))
sns.heatmap(corr, annot=True, fmt='.2f', cmap='Blues')
plt.title('Correlation Matrix')
plt.show()

corr['assessment_score'].sort_values(ascending=False)numeric_cols = ['comprehension','attention','focus','retention','engagement_time','assessment_score']
fig, axes = plt.subplots(2, 3, figsize=(14, 8))
axes = axes.ravel()
for i, col in enumerate(numeric_cols):
    sns.histplot(df[col], kde=True, ax=axes[i], color='#3b82f6')
    axes[i].set_title(col)
plt.tight_layout()
plt.show()df.describe().Timport pandas as pd
import numpy as np
import seaborn as sns
import matplotlib.pyplot as plt
from pathlib import Path

pd.set_option('display.max_columns', None)

DATA_PATH = Path('../public/data/students.csv')
df = pd.read_csv(DATA_PATH)
df.head()# Cognitive Skills & Student Performance Analysis

Analyze correlations between cognitive skills and performance, build a predictive model, and cluster students into learning personas.